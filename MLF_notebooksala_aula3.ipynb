{
  "nbformat": 4,
  "nbformat_minor": 0,
  "metadata": {
    "colab": {
      "provenance": [],
      "include_colab_link": true
    },
    "kernelspec": {
      "name": "python3",
      "display_name": "Python 3"
    },
    "language_info": {
      "name": "python"
    }
  },
  "cells": [
    {
      "cell_type": "markdown",
      "metadata": {
        "id": "view-in-github",
        "colab_type": "text"
      },
      "source": [
        "<a href=\"https://colab.research.google.com/github/pamlima00/mba_dsa/blob/mlf/MLF_notebooksala_aula3.ipynb\" target=\"_parent\"><img src=\"https://colab.research.google.com/assets/colab-badge.svg\" alt=\"Open In Colab\"/></a>"
      ]
    },
    {
      "cell_type": "code",
      "source": [
        "import matplotlib.pyplot as plt\n",
        "import numpy as np\n",
        "import pandas as pd\n",
        "from sklearn.datasets import load_digits, load_iris\n",
        "from sklearn.ensemble import BaggingClassifier, RandomForestClassifier\n",
        "from sklearn.metrics import accuracy_score, confusion_matrix, ConfusionMatrixDisplay, recall_score, precision_score\n",
        "from sklearn.model_selection import cross_val_score, cross_validate, train_test_split\n",
        "from sklearn.linear_model import LogisticRegression\n",
        "from sklearn.tree import DecisionTreeClassifier, plot_tree"
      ],
      "metadata": {
        "id": "XYZIS_vJy1Vz"
      },
      "execution_count": null,
      "outputs": []
    },
    {
      "cell_type": "markdown",
      "source": [
        "# Classificação"
      ],
      "metadata": {
        "id": "YqDCd-8_aEdk"
      }
    },
    {
      "cell_type": "markdown",
      "source": [
        "## Como classificar entre virsinica, versiculor e setosa?"
      ],
      "metadata": {
        "id": "L1fJkJOhTOHz"
      }
    },
    {
      "cell_type": "code",
      "source": [
        "iris = load_iris()\n",
        "\n",
        "target_names = list(iris.target_names)\n",
        "\n",
        "X, y = iris.data, iris.target"
      ],
      "metadata": {
        "id": "InUiL0FTTXmH"
      },
      "execution_count": null,
      "outputs": []
    },
    {
      "cell_type": "code",
      "source": [
        "X_train, X_test, y_train, y_test = train_test_split(X, y, test_size=0.3)"
      ],
      "metadata": {
        "id": "0MgHAmadUCi7"
      },
      "execution_count": null,
      "outputs": []
    },
    {
      "cell_type": "code",
      "source": [
        "arvore_decisao = DecisionTreeClassifier()\n",
        "regressao_logistica = LogisticRegression(n_jobs=-1)\n",
        "\n",
        "arvore_decisao.fit(X_train, y_train)\n",
        "regressao_logistica.fit(X_train, y_train)"
      ],
      "metadata": {
        "id": "Q5DMU05lUQcc"
      },
      "execution_count": null,
      "outputs": []
    },
    {
      "cell_type": "code",
      "source": [
        "y_pred_arvore_train = arvore_decisao.predict(X_train)\n",
        "y_pred_regressao_train = regressao_logistica.predict(X_train)"
      ],
      "metadata": {
        "id": "XKwpWDGbUxuz"
      },
      "execution_count": null,
      "outputs": []
    },
    {
      "cell_type": "markdown",
      "source": [
        "### Avaliando resultados conjunto treino"
      ],
      "metadata": {
        "id": "FELwlqQ2U5ti"
      }
    },
    {
      "cell_type": "code",
      "source": [
        "cm = confusion_matrix(y_train, y_pred_arvore_train)\n",
        "\n",
        "disp = ConfusionMatrixDisplay(confusion_matrix=cm,\n",
        "                              display_labels=target_names)\n",
        "\n",
        "disp.plot()\n",
        "\n",
        "plt.show()"
      ],
      "metadata": {
        "id": "d4kygVANU1ZU"
      },
      "execution_count": null,
      "outputs": []
    },
    {
      "cell_type": "code",
      "source": [
        "cm = confusion_matrix(y_train, y_pred_regressao_train)\n",
        "\n",
        "disp = ConfusionMatrixDisplay(confusion_matrix=cm,\n",
        "                              display_labels=target_names)\n",
        "\n",
        "disp.plot()\n",
        "\n",
        "plt.show()"
      ],
      "metadata": {
        "id": "HG_ITf_gVIHP"
      },
      "execution_count": null,
      "outputs": []
    },
    {
      "cell_type": "markdown",
      "source": [
        "### Avaliando desempenho conjunto teste"
      ],
      "metadata": {
        "id": "qjXIZVLkVSJj"
      }
    },
    {
      "cell_type": "code",
      "source": [
        "y_pred_arvore_test = arvore_decisao.predict(X_test)\n",
        "y_pred_regressao_test = regressao_logistica.predict(X_test)"
      ],
      "metadata": {
        "id": "DIVe_X4JVXvz"
      },
      "execution_count": null,
      "outputs": []
    },
    {
      "cell_type": "code",
      "source": [
        "cm = confusion_matrix(y_test, y_pred_arvore_test)\n",
        "\n",
        "disp = ConfusionMatrixDisplay(confusion_matrix=cm,\n",
        "                              display_labels=target_names)\n",
        "\n",
        "disp.plot()\n",
        "\n",
        "plt.show()"
      ],
      "metadata": {
        "id": "Ji0s23ROVVRI"
      },
      "execution_count": null,
      "outputs": []
    },
    {
      "cell_type": "code",
      "source": [
        "cm = confusion_matrix(y_test, y_pred_regressao_test)\n",
        "\n",
        "disp = ConfusionMatrixDisplay(confusion_matrix=cm,\n",
        "                              display_labels=target_names)\n",
        "\n",
        "disp.plot()\n",
        "\n",
        "plt.show()"
      ],
      "metadata": {
        "id": "oQzPmOeKVeA6"
      },
      "execution_count": null,
      "outputs": []
    },
    {
      "cell_type": "markdown",
      "source": [
        "### Utilizando cross validation para entender melhor o desempenho"
      ],
      "metadata": {
        "id": "qfXl88KFgDEK"
      }
    },
    {
      "cell_type": "code",
      "source": [
        "arvore_decisao = DecisionTreeClassifier()\n",
        "regressao_logistica = LogisticRegression(n_jobs=-1)\n",
        "\n",
        "scores_arvore_decisao = cross_val_score(arvore_decisao, X, y, cv=4)\n",
        "scores_regressao_logistica = cross_val_score(regressao_logistica, X, y, cv=4)"
      ],
      "metadata": {
        "id": "1ZWAciHlgH8Z"
      },
      "execution_count": null,
      "outputs": []
    },
    {
      "cell_type": "code",
      "source": [
        "print(f\"scores arvore_decisao {np.round(scores_arvore_decisao, 2)}, média {scores_arvore_decisao.mean():.2f}, desvio padrao {scores_arvore_decisao.std():.3f}\")\n",
        "print(f\"scores regressao_logistica {np.round(scores_regressao_logistica, 2)}, média {scores_regressao_logistica.mean():.2f}, desvio padrao {scores_regressao_logistica.std():.3f}\")"
      ],
      "metadata": {
        "id": "d_qN6GkKgzL3"
      },
      "execution_count": null,
      "outputs": []
    },
    {
      "cell_type": "markdown",
      "source": [
        "## Trabalhando com dados mais complexos, caso do MNIST\n",
        "\n",
        "### Agora é com vocês, como criaram um modelo de classificação para predizer as classes de dígitos, mas informações no [link](https://scikit-learn.org/stable/modules/generated/sklearn.datasets.load_digits.html)"
      ],
      "metadata": {
        "id": "W0mahRqH9lBk"
      }
    },
    {
      "cell_type": "code",
      "source": [
        "digits = load_digits()"
      ],
      "metadata": {
        "id": "CGX_3eSbiYlU"
      },
      "execution_count": null,
      "outputs": []
    },
    {
      "cell_type": "code",
      "source": [
        "plt.gray()\n",
        "\n",
        "plt.matshow(digits.images[0])\n",
        "\n",
        "plt.show()"
      ],
      "metadata": {
        "id": "7Bv2h-qk9267"
      },
      "execution_count": null,
      "outputs": []
    },
    {
      "cell_type": "code",
      "source": [
        "X_digits, y_digits = digits.data, digits.target\n",
        "\n",
        "X_digits_train, X_digits_test, y_digits_train, y_digits_test = train_test_split(X_digits, y_digits, test_size=0.3, random_state=42)\n",
        "\n",
        "target_names = digits.target_names"
      ],
      "metadata": {
        "id": "m_KjqnwKF8dc"
      },
      "execution_count": null,
      "outputs": []
    },
    {
      "cell_type": "markdown",
      "source": [
        "### Regressão Logística"
      ],
      "metadata": {
        "id": "vlcDbz7MGZX9"
      }
    },
    {
      "cell_type": "code",
      "source": [
        "regressao_logistica = LogisticRegression(n_jobs=-1)\n",
        "\n",
        "cv_score = cross_val_score(regressao_logistica, X_digits, y_digits, cv=4, n_jobs=-1)\n",
        "\n",
        "print(f\"scores regressão logística {np.round(cv_score, 2)}, média {cv_score.mean():.2f}, desvio padrao {cv_score.std():.3f}\")\n",
        "\n",
        "\n",
        "regressao_logistica.fit(X_digits_train, y_digits_train)"
      ],
      "metadata": {
        "id": "n8atC-WeGqs4"
      },
      "execution_count": null,
      "outputs": []
    },
    {
      "cell_type": "code",
      "source": [
        "y_pred_regressao_train = regressao_logistica.predict(X_digits_train)\n",
        "\n",
        "cm = confusion_matrix(y_digits_train, y_pred_regressao_train)\n",
        "\n",
        "disp = ConfusionMatrixDisplay(confusion_matrix=cm,\n",
        "                              display_labels=target_names)\n",
        "\n",
        "disp.plot()\n",
        "\n",
        "plt.show()"
      ],
      "metadata": {
        "id": "gdaYwY8UG8I1"
      },
      "execution_count": null,
      "outputs": []
    },
    {
      "cell_type": "markdown",
      "source": [
        "#### Teste"
      ],
      "metadata": {
        "id": "vvbGjyXWHpc1"
      }
    },
    {
      "cell_type": "code",
      "source": [
        "y_pred_regressao_test = regressao_logistica.predict(X_digits_test)\n",
        "\n",
        "cm = confusion_matrix(y_digits_test, y_pred_regressao_test)\n",
        "\n",
        "disp = ConfusionMatrixDisplay(confusion_matrix=cm,\n",
        "                              display_labels=target_names)\n",
        "\n",
        "disp.plot()\n",
        "\n",
        "plt.show()"
      ],
      "metadata": {
        "id": "b5lpih6zHq36"
      },
      "execution_count": null,
      "outputs": []
    },
    {
      "cell_type": "code",
      "source": [
        "accuracy_logreg = accuracy_score(y_pred_regressao_test, y_digits_test)\n",
        "\n",
        "recall_logreg = recall_score(y_pred_regressao_test, y_digits_test, average=\"micro\")\n",
        "\n",
        "precision_logreg = precision_score(y_pred_regressao_test, y_digits_test, average=\"micro\")\n",
        "\n",
        "\n",
        "print(f\"A árvore de decisão teve acurácia de {accuracy_logreg:.3f}, recall  {recall_logreg:.3f}, precision {precision_logreg:.3f}\")"
      ],
      "metadata": {
        "id": "-ZIB_OueP0PQ"
      },
      "execution_count": null,
      "outputs": []
    },
    {
      "cell_type": "markdown",
      "source": [
        "### Árvore de decisão"
      ],
      "metadata": {
        "id": "TMoxtSxCG4YF"
      }
    },
    {
      "cell_type": "code",
      "source": [
        "arvore_decisao = DecisionTreeClassifier()\n",
        "\n",
        "cv_score = cross_val_score(arvore_decisao, X_digits, y_digits, cv=4, n_jobs=-1)\n",
        "\n",
        "print(f\"scores arvore de decisão {np.round(cv_score, 2)}, média {cv_score.mean():.2f}, desvio padrao {cv_score.std():.3f}\")\n",
        "\n",
        "\n",
        "arvore_decisao.fit(X_digits_train, y_digits_train)"
      ],
      "metadata": {
        "id": "Gp61voFoGxwy"
      },
      "execution_count": null,
      "outputs": []
    },
    {
      "cell_type": "code",
      "source": [
        "y_pred_arvore_train = arvore_decisao.predict(X_digits_train)\n",
        "\n",
        "cm = confusion_matrix(y_digits_train, y_pred_arvore_train)\n",
        "\n",
        "disp = ConfusionMatrixDisplay(confusion_matrix=cm,\n",
        "                              display_labels=target_names)\n",
        "\n",
        "disp.plot()\n",
        "\n",
        "plt.show()"
      ],
      "metadata": {
        "id": "yJd46TWAHWYy"
      },
      "execution_count": null,
      "outputs": []
    },
    {
      "cell_type": "markdown",
      "source": [
        "#### Teste"
      ],
      "metadata": {
        "id": "I-tgwnLpHgVJ"
      }
    },
    {
      "cell_type": "code",
      "source": [
        "y_pred_arvore_test = arvore_decisao.predict(X_digits_test)\n",
        "\n",
        "cm = confusion_matrix(y_digits_test, y_pred_arvore_test)\n",
        "\n",
        "disp = ConfusionMatrixDisplay(confusion_matrix=cm,\n",
        "                              display_labels=target_names)\n",
        "\n",
        "disp.plot()\n",
        "\n",
        "plt.show()"
      ],
      "metadata": {
        "id": "BJZ-5kG7HhmJ"
      },
      "execution_count": null,
      "outputs": []
    },
    {
      "cell_type": "code",
      "source": [
        "accuracy_decision_tree = accuracy_score(y_pred_arvore_test, y_digits_test)\n",
        "\n",
        "recall_decision_tree = recall_score(y_pred_arvore_test, y_digits_test, average=\"micro\")\n",
        "\n",
        "precision_decision_tree = precision_score(y_pred_arvore_test, y_digits_test, average=\"micro\")\n",
        "\n",
        "\n",
        "print(f\"A árvore de decisão teve acurácia de {accuracy_decision_tree:.3f}, recall  {recall_decision_tree:.3f}, precision {precision_decision_tree:.3f}\")"
      ],
      "metadata": {
        "id": "qorupM8HPirf"
      },
      "execution_count": null,
      "outputs": []
    },
    {
      "cell_type": "markdown",
      "source": [
        "### Aplicando Random Forest"
      ],
      "metadata": {
        "id": "gUiX5ck7KnzX"
      }
    },
    {
      "cell_type": "code",
      "source": [
        "random_forest = RandomForestClassifier(random_state=0)"
      ],
      "metadata": {
        "id": "jhDhzdyTKpPE"
      },
      "execution_count": null,
      "outputs": []
    },
    {
      "cell_type": "code",
      "source": [
        "scores_random_forest = cross_val_score(random_forest, X_digits, y_digits, cv=4, n_jobs=-1)\n",
        "\n",
        "print(f\"scores random forest {np.round(scores_random_forest, 2)}, média {scores_random_forest.mean():.2f}, desvio padrao {scores_random_forest.std():.3f}\")"
      ],
      "metadata": {
        "id": "wUc25u36LK2-"
      },
      "execution_count": null,
      "outputs": []
    },
    {
      "cell_type": "code",
      "source": [
        "random_forest.fit(X_digits_train, y_digits_train)"
      ],
      "metadata": {
        "id": "bv4avyMpMxcu"
      },
      "execution_count": null,
      "outputs": []
    },
    {
      "cell_type": "markdown",
      "source": [
        "#### Teste"
      ],
      "metadata": {
        "id": "zCyr7ZFrPTSN"
      }
    },
    {
      "cell_type": "code",
      "source": [
        "y_pred_random_forest_test = random_forest.predict(X_digits_test)\n",
        "\n",
        "cm = confusion_matrix(y_digits_test, y_pred_random_forest_test)\n",
        "\n",
        "disp = ConfusionMatrixDisplay(confusion_matrix=cm,\n",
        "                              display_labels=target_names)\n",
        "\n",
        "disp.plot()\n",
        "\n",
        "plt.show()"
      ],
      "metadata": {
        "id": "p4FMvp3NK2ZQ"
      },
      "execution_count": null,
      "outputs": []
    },
    {
      "cell_type": "code",
      "source": [
        "accuracy_random_forest = accuracy_score(y_pred_random_forest_test, y_digits_test)\n",
        "\n",
        "recall_random_forest = recall_score(y_pred_random_forest_test, y_digits_test, average=\"micro\")\n",
        "\n",
        "precision_random_forest = precision_score(y_pred_random_forest_test, y_digits_test, average=\"micro\")\n",
        "\n",
        "print(f\"A random forest teve acurácia de {accuracy_random_forest:.3f}, recall {recall_random_forest:.3f}, precision {precision_random_forest:.3f}\")"
      ],
      "metadata": {
        "id": "hHAUH7CuL2iC"
      },
      "execution_count": null,
      "outputs": []
    },
    {
      "cell_type": "markdown",
      "source": [
        "### Efeito de bagging na performance"
      ],
      "metadata": {
        "id": "MLrSIBZ56rHf"
      }
    },
    {
      "cell_type": "code",
      "source": [
        "arvore_decisao_bagging = BaggingClassifier(estimator=DecisionTreeClassifier(), n_estimators=3)\n",
        "\n",
        "regressao_logistica_bagging = BaggingClassifier(estimator=LogisticRegression(n_jobs=-1), n_estimators=3)"
      ],
      "metadata": {
        "id": "cck5lJUA7KA-"
      },
      "execution_count": null,
      "outputs": []
    },
    {
      "cell_type": "code",
      "source": [
        "scores_arvore_decisao_bagging = cross_val_score(arvore_decisao_bagging, X_digits, y_digits, cv=4, n_jobs=-1)\n",
        "scores_regressao_logistica_bagging = cross_val_score(regressao_logistica_bagging, X_digits, y_digits, cv=4, n_jobs=-1)\n",
        "\n",
        "print(f\"scores arvore_decisao {np.round(scores_arvore_decisao_bagging, 2)}, média {scores_arvore_decisao_bagging.mean():.2f}, desvio padrao {scores_arvore_decisao_bagging.std():.3f}\")\n",
        "print(f\"scores regressao_logistica {np.round(scores_regressao_logistica_bagging, 2)}, média {scores_regressao_logistica_bagging.mean():.2f}, desvio padrao {scores_regressao_logistica_bagging.std():.3f}\")"
      ],
      "metadata": {
        "id": "AJp1-JP27pNy"
      },
      "execution_count": null,
      "outputs": []
    },
    {
      "cell_type": "code",
      "source": [
        "regressao_logistica_bagging = BaggingClassifier(estimator=LogisticRegression(n_jobs=-1), n_estimators=3)\n",
        "\n",
        "results = cross_validate(regressao_logistica_bagging, X_digits, y_digits, cv=5, return_estimator=True, n_jobs=-1)\n",
        "\n",
        "best_model = results[\"estimator\"][3]"
      ],
      "metadata": {
        "id": "Fj1wbz4JISh_"
      },
      "execution_count": null,
      "outputs": []
    },
    {
      "cell_type": "markdown",
      "source": [
        "#### Teste"
      ],
      "metadata": {
        "id": "CMqkVCP4PY3S"
      }
    },
    {
      "cell_type": "code",
      "source": [
        "y_pred_best_model_test = best_model.predict(X_digits_test)\n",
        "\n",
        "cm = confusion_matrix(y_digits_test, y_pred_best_model_test)\n",
        "\n",
        "disp = ConfusionMatrixDisplay(confusion_matrix=cm,\n",
        "                              display_labels=target_names)\n",
        "\n",
        "disp.plot()\n",
        "\n",
        "plt.show()"
      ],
      "metadata": {
        "id": "cJbZGGYQIxWi"
      },
      "execution_count": null,
      "outputs": []
    },
    {
      "cell_type": "code",
      "source": [
        "accuracy_best_model = accuracy_score(y_pred_best_model_test, y_digits_test)\n",
        "\n",
        "recall_best_model = recall_score(y_pred_best_model_test, y_digits_test, average=\"micro\")\n",
        "\n",
        "precision_best_model = precision_score(y_pred_best_model_test, y_digits_test, average=\"micro\")\n",
        "\n",
        "\n",
        "print(f\"O melhor modelo teve acurácia de {accuracy_best_model:.3f}, recall  {recall_best_model:.3f}, precision {precision_best_model:.3f}\")"
      ],
      "metadata": {
        "id": "BgSDOuSaMavb"
      },
      "execution_count": null,
      "outputs": []
    }
  ]
}