{
  "nbformat": 4,
  "nbformat_minor": 0,
  "metadata": {
    "colab": {
      "provenance": [],
      "include_colab_link": true
    },
    "kernelspec": {
      "name": "python3",
      "display_name": "Python 3"
    },
    "language_info": {
      "name": "python"
    }
  },
  "cells": [
    {
      "cell_type": "markdown",
      "metadata": {
        "id": "view-in-github",
        "colab_type": "text"
      },
      "source": [
        "<a href=\"https://colab.research.google.com/github/pamlima00/mba_dsa/blob/mlf/MLF_atividade_aula3.ipynb\" target=\"_parent\"><img src=\"https://colab.research.google.com/assets/colab-badge.svg\" alt=\"Open In Colab\"/></a>"
      ]
    },
    {
      "cell_type": "markdown",
      "source": [
        "# Trabalho em grupo\n",
        "\n",
        "Instruções importantes:\n",
        "\n",
        "* Façam uma cópia deste notebook e **enviem o link** dele respondido no sistema.\n",
        "* Incluam no notebook o nome de todos os integrantes do grupo, assim como está no sistema da impacta\n",
        "* O trabalho é para ser feito em grupo de 3 a 5 pessoas\n",
        "* Todas as respostas devem apresentar o código que foi utilizado.\n",
        "* A resposta deve ser contida no espaço abaixo da pergunta a que se refere e a cima das perguntas seguintes. **Organização importa**\n",
        "* Só uma pessoa do grupo deve enviar o trabalho.\n",
        "* Prazo para o trabalho está no sistema\n",
        "* Qualquer dúvida estou a disposição :D"
      ],
      "metadata": {
        "id": "xCydPufEWDCI"
      }
    },
    {
      "cell_type": "markdown",
      "source": [
        "## Primeiro passo\n",
        "\n",
        "Baixe o dataset com o comando a baixo e extraia os dados importantes. Responda as questão abaixo com os dados do csv bank-full.csv"
      ],
      "metadata": {
        "id": "_iqBwn6vWH2l"
      }
    },
    {
      "cell_type": "code",
      "execution_count": null,
      "metadata": {
        "id": "mYQhxXlEVXVm"
      },
      "outputs": [],
      "source": [
        "!wget https://archive.ics.uci.edu/static/public/222/bank+marketing.zip"
      ]
    },
    {
      "cell_type": "code",
      "source": [
        "!unzip bank+marketing.zip -d training_data\n",
        "\n",
        "!unzip training_data/bank.zip -d training_data"
      ],
      "metadata": {
        "id": "kGr34zqaIwYs"
      },
      "execution_count": null,
      "outputs": []
    },
    {
      "cell_type": "markdown",
      "source": [
        "## Questão 1\n",
        "\n",
        "Qual a moda matemática da coluna \"education\"?"
      ],
      "metadata": {
        "id": "osfSGlhAWOcb"
      }
    },
    {
      "cell_type": "code",
      "source": [],
      "metadata": {
        "id": "KrlXU1epV566"
      },
      "execution_count": null,
      "outputs": []
    },
    {
      "cell_type": "markdown",
      "source": [
        "## Questão 2\n",
        "\n",
        "Separe o dataset em treino, validação e teste, utilizando a função [train_test_split](https://scikit-learn.org/stable/modules/generated/sklearn.model_selection.train_test_split.html). Sendo 60% do dataset para treino, 20% para validação e 20% para teste\n",
        "\n",
        "Obs: O conjunto de validação de vir do de treino, se não tiver sido especificado"
      ],
      "metadata": {
        "id": "oEEmi40vYlVo"
      }
    },
    {
      "cell_type": "code",
      "source": [],
      "metadata": {
        "id": "1cgbaMhdYsCs"
      },
      "execution_count": null,
      "outputs": []
    },
    {
      "cell_type": "markdown",
      "source": [
        "## Questão 3\n",
        "\n",
        "Crie uma [matrix de correlçao](https://www.google.com/search?q=correlation+matrix) e responda quais são as colunas com válores números continuos com maior correlação?"
      ],
      "metadata": {
        "id": "60yvJ8jIWVmJ"
      }
    },
    {
      "cell_type": "code",
      "source": [],
      "metadata": {
        "id": "ImE8k7NeWam8"
      },
      "execution_count": null,
      "outputs": []
    },
    {
      "cell_type": "markdown",
      "source": [
        "## Questão 4\n",
        "\n",
        "Agora treine um modelo de regressão logística, apenas com as variáveis numéricas e mostre a accurácia para o conjunto de treino e validação."
      ],
      "metadata": {
        "id": "awGqlG0iWhuM"
      }
    },
    {
      "cell_type": "code",
      "source": [],
      "metadata": {
        "id": "NcoHCg5uWmx2"
      },
      "execution_count": null,
      "outputs": []
    },
    {
      "cell_type": "markdown",
      "source": [
        "## Questão 5\n",
        "\n",
        "Faça o mesmo da questão 4, agora para um modelo de árvore de decisão"
      ],
      "metadata": {
        "id": "zhbHRFlcWp7G"
      }
    },
    {
      "cell_type": "code",
      "source": [],
      "metadata": {
        "id": "RNkg7ls9Wufd"
      },
      "execution_count": null,
      "outputs": []
    },
    {
      "cell_type": "markdown",
      "source": [
        "## Questão 6\n",
        "\n",
        "Por fim, use o modelo de [random forrest](https://scikit-learn.org/stable/modules/generated/sklearn.ensemble.RandomForestClassifier.html) e responda as mesmas perguntas que na questão 4"
      ],
      "metadata": {
        "id": "_NNk9YjGWvAz"
      }
    },
    {
      "cell_type": "code",
      "source": [],
      "metadata": {
        "id": "BAvlOZYqW27W"
      },
      "execution_count": null,
      "outputs": []
    },
    {
      "cell_type": "markdown",
      "source": [
        "## Questão 7\n",
        "\n",
        "Treine o modelo de regressão logística mais uma vez, mas desta vez use a cross validação com [cross_validate](https://scikit-learn.org/stable/modules/generated/sklearn.model_selection.cross_validate.html), cv=5. Qual o resultado médio? Quais são os coeficientes aprendidos pelo melhor modelo de regressão logística?"
      ],
      "metadata": {
        "id": "iOLz6QNrW9XI"
      }
    },
    {
      "cell_type": "code",
      "source": [],
      "metadata": {
        "id": "8HHDH3IvXBdT"
      },
      "execution_count": null,
      "outputs": []
    },
    {
      "cell_type": "markdown",
      "source": [
        "## Questão 8\n",
        "\n",
        "Calcule [precision](https://scikit-learn.org/stable/modules/generated/sklearn.metrics.precision_score.html), [recall](https://scikit-learn.org/stable/modules/generated/sklearn.metrics.recall_score.html) para os 3 modelos no conjunto de validação utilizando as funções do scikit learn"
      ],
      "metadata": {
        "id": "ElUPSvi5L1cI"
      }
    },
    {
      "cell_type": "code",
      "source": [],
      "metadata": {
        "id": "WaLc0wcwL0tc"
      },
      "execution_count": null,
      "outputs": []
    },
    {
      "cell_type": "markdown",
      "source": [
        "## Questão 9\n",
        "\n",
        "Calcule, acurácia, precisão e recall para os três modelos no conjunto de validação, mas desta vez crie funções para calcular cada uma das métricas"
      ],
      "metadata": {
        "id": "oaylOD9FMWDB"
      }
    },
    {
      "cell_type": "code",
      "source": [],
      "metadata": {
        "id": "NE5U79zyMWQS"
      },
      "execution_count": null,
      "outputs": []
    },
    {
      "cell_type": "markdown",
      "source": [
        "## Questão 10\n",
        "\n",
        "Plote agora a matrix de confusão para cada um dos modelos, utilizando os dados de validação e diga qual dos modelos escolheria para botar em produção e porque. Por fim, plote a matrix de confusão para o resultado no conjunto de teste do modelo que foi escolhido como o melhor e descorra brevemente sobre os resultados"
      ],
      "metadata": {
        "id": "EoinaRJeXFC5"
      }
    },
    {
      "cell_type": "code",
      "source": [],
      "metadata": {
        "id": "RqtdzDuRXWSH"
      },
      "execution_count": null,
      "outputs": []
    }
  ]
}